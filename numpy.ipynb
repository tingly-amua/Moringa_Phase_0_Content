{
 "cells": [
  {
   "cell_type": "code",
   "execution_count": 1,
   "id": "0fc9050b-849b-4d15-b6be-aeac43eac049",
   "metadata": {},
   "outputs": [
    {
     "name": "stdout",
     "output_type": "stream",
     "text": [
      "Requirement already satisfied: numpy in c:\\users\\pc\\anaconda4\\lib\\site-packages (1.26.4)\n",
      "Note: you may need to restart the kernel to use updated packages.\n"
     ]
    }
   ],
   "source": [
    "pip install numpy"
   ]
  },
  {
   "cell_type": "code",
   "execution_count": 25,
   "id": "b08abbb8-99dc-4937-a4a5-e44a366e0281",
   "metadata": {},
   "outputs": [],
   "source": [
    "import numpy as np"
   ]
  },
  {
   "cell_type": "code",
   "execution_count": 3,
   "id": "ae1a429f-7efc-4bc2-baf6-6c298cd137f8",
   "metadata": {},
   "outputs": [
    {
     "data": {
      "text/plain": [
       "array(['Jane', 'Rose', 'Kevin'], dtype='<U5')"
      ]
     },
     "execution_count": 3,
     "metadata": {},
     "output_type": "execute_result"
    }
   ],
   "source": [
    "str_arr = np.array(['Jane','Rose','Kevin'])\n",
    "str_arr"
   ]
  },
  {
   "cell_type": "code",
   "execution_count": 5,
   "id": "9ffaed78-1917-4f34-a3c7-d5b0d4ac68e5",
   "metadata": {},
   "outputs": [
    {
     "data": {
      "text/plain": [
       "array([[1, 2, 3],\n",
       "       [4, 5, 6]])"
      ]
     },
     "execution_count": 5,
     "metadata": {},
     "output_type": "execute_result"
    }
   ],
   "source": [
    "numpy_ndaarr = np.array([[1,2,3],[4,5,6]])\n",
    "numpy_ndaarr"
   ]
  },
  {
   "cell_type": "code",
   "execution_count": 6,
   "id": "135de5f5-025a-4497-b0f4-e445c3e4de2e",
   "metadata": {},
   "outputs": [],
   "source": [
    "list_of_integers = [0,1,2,3]\n"
   ]
  },
  {
   "cell_type": "code",
   "execution_count": 7,
   "id": "291fcecc-1051-4da3-94d7-2e9ff98a749a",
   "metadata": {},
   "outputs": [],
   "source": [
    "arr1 = np.array(list_of_integers)"
   ]
  },
  {
   "cell_type": "code",
   "execution_count": 8,
   "id": "a7d74038-23f0-482b-9718-67dcfeeca09c",
   "metadata": {},
   "outputs": [
    {
     "data": {
      "text/plain": [
       "array([0, 1, 2, 3])"
      ]
     },
     "execution_count": 8,
     "metadata": {},
     "output_type": "execute_result"
    }
   ],
   "source": [
    "arr1"
   ]
  },
  {
   "cell_type": "code",
   "execution_count": 9,
   "id": "e8ddbf4f-19db-4232-8ea3-60c419130dd9",
   "metadata": {},
   "outputs": [
    {
     "data": {
      "text/plain": [
       "array([3, 4, 5, 6])"
      ]
     },
     "execution_count": 9,
     "metadata": {},
     "output_type": "execute_result"
    }
   ],
   "source": [
    "arr1 + 3"
   ]
  },
  {
   "cell_type": "code",
   "execution_count": 10,
   "id": "331e35de-89c1-44e3-97e3-ec3886951107",
   "metadata": {},
   "outputs": [
    {
     "name": "stdout",
     "output_type": "stream",
     "text": [
      "[130 180 320  20]\n"
     ]
    }
   ],
   "source": [
    "length = np.array([10,12,20,5])\n",
    "width = np.array([13,15,16,4])\n",
    "area = length*width\n",
    "print(area)"
   ]
  },
  {
   "cell_type": "code",
   "execution_count": 16,
   "id": "c84f9109-a155-4eea-ab8e-ba0d2b83b253",
   "metadata": {},
   "outputs": [
    {
     "ename": "SyntaxError",
     "evalue": "invalid decimal literal (3871986708.py, line 1)",
     "output_type": "error",
     "traceback": [
      "\u001b[1;36m  Cell \u001b[1;32mIn[16], line 1\u001b[1;36m\u001b[0m\n\u001b[1;33m    A = 25.sqrt()\u001b[0m\n\u001b[1;37m          ^\u001b[0m\n\u001b[1;31mSyntaxError\u001b[0m\u001b[1;31m:\u001b[0m invalid decimal literal\n"
     ]
    }
   ],
   "source": [
    "A = 25.sqrt()"
   ]
  },
  {
   "cell_type": "code",
   "execution_count": 18,
   "id": "a68e9e8b-a456-4f01-ae31-2d74b2d006b2",
   "metadata": {},
   "outputs": [
    {
     "ename": "SyntaxError",
     "evalue": "invalid decimal literal (1882301183.py, line 1)",
     "output_type": "error",
     "traceback": [
      "\u001b[1;36m  Cell \u001b[1;32mIn[18], line 1\u001b[1;36m\u001b[0m\n\u001b[1;33m    print(25.sqrt(25))\u001b[0m\n\u001b[1;37m            ^\u001b[0m\n\u001b[1;31mSyntaxError\u001b[0m\u001b[1;31m:\u001b[0m invalid decimal literal\n"
     ]
    }
   ],
   "source": [
    "print(25.sqrt(25))"
   ]
  },
  {
   "cell_type": "code",
   "execution_count": 19,
   "id": "b0648581-4622-4e4c-b3f7-2481794ac57b",
   "metadata": {},
   "outputs": [
    {
     "ename": "NameError",
     "evalue": "name 'numsqrt' is not defined",
     "output_type": "error",
     "traceback": [
      "\u001b[1;31m---------------------------------------------------------------------------\u001b[0m",
      "\u001b[1;31mNameError\u001b[0m                                 Traceback (most recent call last)",
      "Cell \u001b[1;32mIn[19], line 1\u001b[0m\n\u001b[1;32m----> 1\u001b[0m numsqrt(\u001b[38;5;241m25\u001b[39m)\n",
      "\u001b[1;31mNameError\u001b[0m: name 'numsqrt' is not defined"
     ]
    }
   ],
   "source": [
    "numsqrt(25)"
   ]
  },
  {
   "cell_type": "code",
   "execution_count": 20,
   "id": "4daf8b2c-9346-4fa9-9163-532b07fae709",
   "metadata": {},
   "outputs": [],
   "source": [
    "import math"
   ]
  },
  {
   "cell_type": "code",
   "execution_count": 22,
   "id": "87e5bf68-67c0-48e5-ab3e-a3fdfe3ccd7d",
   "metadata": {},
   "outputs": [
    {
     "name": "stdout",
     "output_type": "stream",
     "text": [
      "5\n"
     ]
    }
   ],
   "source": [
    "print(int(math.sqrt(25)))"
   ]
  },
  {
   "cell_type": "code",
   "execution_count": 23,
   "id": "a409b0f2-bc98-439b-ad2d-d4c33baba5a6",
   "metadata": {},
   "outputs": [],
   "source": [
    "arr2 = np.array([9,16,25,49])"
   ]
  },
  {
   "cell_type": "code",
   "execution_count": 32,
   "id": "6485e125-1b70-4a9b-86bb-89a40f10ab3d",
   "metadata": {},
   "outputs": [
    {
     "data": {
      "text/plain": [
       "array([3., 4., 5., 7.])"
      ]
     },
     "execution_count": 32,
     "metadata": {},
     "output_type": "execute_result"
    }
   ],
   "source": [
    "np.sqrt(arr2)"
   ]
  },
  {
   "cell_type": "code",
   "execution_count": 33,
   "id": "57884d2d-e4a8-4087-adc7-afb74b53cedd",
   "metadata": {},
   "outputs": [],
   "source": [
    "cuberoot = np.power(arr2, 1/3)"
   ]
  },
  {
   "cell_type": "code",
   "execution_count": 34,
   "id": "c2d75e30-4dd2-4928-8df9-e8f97a99499c",
   "metadata": {},
   "outputs": [
    {
     "data": {
      "text/plain": [
       "array([2.08008382, 2.5198421 , 2.92401774, 3.65930571])"
      ]
     },
     "execution_count": 34,
     "metadata": {},
     "output_type": "execute_result"
    }
   ],
   "source": [
    "cuberoot"
   ]
  },
  {
   "cell_type": "code",
   "execution_count": 37,
   "id": "7c9b3a26-16e4-468c-a970-37b458c52a3b",
   "metadata": {},
   "outputs": [
    {
     "ename": "NameError",
     "evalue": "name 'cuberooot' is not defined",
     "output_type": "error",
     "traceback": [
      "\u001b[1;31m---------------------------------------------------------------------------\u001b[0m",
      "\u001b[1;31mNameError\u001b[0m                                 Traceback (most recent call last)",
      "Cell \u001b[1;32mIn[37], line 1\u001b[0m\n\u001b[1;32m----> 1\u001b[0m cuberooot\u001b[38;5;241m.\u001b[39mceil()\n",
      "\u001b[1;31mNameError\u001b[0m: name 'cuberooot' is not defined"
     ]
    }
   ],
   "source": [
    "cuberooot.ceil()"
   ]
  },
  {
   "cell_type": "code",
   "execution_count": 38,
   "id": "2828d0dc-af25-4e57-9e82-b8d0ef0eac0c",
   "metadata": {},
   "outputs": [
    {
     "ename": "TypeError",
     "evalue": "only length-1 arrays can be converted to Python scalars",
     "output_type": "error",
     "traceback": [
      "\u001b[1;31m---------------------------------------------------------------------------\u001b[0m",
      "\u001b[1;31mTypeError\u001b[0m                                 Traceback (most recent call last)",
      "Cell \u001b[1;32mIn[38], line 1\u001b[0m\n\u001b[1;32m----> 1\u001b[0m \u001b[38;5;28mprint\u001b[39m(math\u001b[38;5;241m.\u001b[39mceil(cuberoot))\n",
      "\u001b[1;31mTypeError\u001b[0m: only length-1 arrays can be converted to Python scalars"
     ]
    }
   ],
   "source": [
    "print(math.ceil(cuberoot))"
   ]
  },
  {
   "cell_type": "code",
   "execution_count": 45,
   "id": "5c20db7f-1407-432b-98a2-822f7039aa08",
   "metadata": {},
   "outputs": [
    {
     "ename": "TypeError",
     "evalue": "only length-1 arrays can be converted to Python scalars",
     "output_type": "error",
     "traceback": [
      "\u001b[1;31m---------------------------------------------------------------------------\u001b[0m",
      "\u001b[1;31mTypeError\u001b[0m                                 Traceback (most recent call last)",
      "Cell \u001b[1;32mIn[45], line 1\u001b[0m\n\u001b[1;32m----> 1\u001b[0m cuberoot \u001b[38;5;241m=\u001b[39m np\u001b[38;5;241m.\u001b[39mpower(\u001b[38;5;28mint\u001b[39m(arr2), \u001b[38;5;241m1\u001b[39m\u001b[38;5;241m/\u001b[39m\u001b[38;5;241m3\u001b[39m)\n",
      "\u001b[1;31mTypeError\u001b[0m: only length-1 arrays can be converted to Python scalars"
     ]
    }
   ],
   "source": [
    "cuberoot = np.power(int(arr2), 1/3)"
   ]
  },
  {
   "cell_type": "code",
   "execution_count": 40,
   "id": "eeecfdde-83b2-44bc-bb7c-6508083a844f",
   "metadata": {},
   "outputs": [
    {
     "data": {
      "text/plain": [
       "array([2.08008382, 2.5198421 , 2.92401774, 3.65930571])"
      ]
     },
     "execution_count": 40,
     "metadata": {},
     "output_type": "execute_result"
    }
   ],
   "source": [
    "cuberoot"
   ]
  },
  {
   "cell_type": "code",
   "execution_count": 46,
   "id": "c6906b7c-447a-41bb-b3fe-5e8237572fb8",
   "metadata": {},
   "outputs": [
    {
     "data": {
      "text/plain": [
       "array([ 9, 16, 25, 49])"
      ]
     },
     "execution_count": 46,
     "metadata": {},
     "output_type": "execute_result"
    }
   ],
   "source": [
    "arr2"
   ]
  },
  {
   "cell_type": "code",
   "execution_count": null,
   "id": "deba610e-c3e8-4d54-9df6-3a9e106023e9",
   "metadata": {},
   "outputs": [],
   "source": [
    "arr3 = np.array([1,2,3"
   ]
  }
 ],
 "metadata": {
  "kernelspec": {
   "display_name": "Python 3 (ipykernel)",
   "language": "python",
   "name": "python3"
  },
  "language_info": {
   "codemirror_mode": {
    "name": "ipython",
    "version": 3
   },
   "file_extension": ".py",
   "mimetype": "text/x-python",
   "name": "python",
   "nbconvert_exporter": "python",
   "pygments_lexer": "ipython3",
   "version": "3.11.7"
  }
 },
 "nbformat": 4,
 "nbformat_minor": 5
}
